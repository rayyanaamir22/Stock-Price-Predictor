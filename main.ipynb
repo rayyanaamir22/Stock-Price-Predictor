{
 "cells": [
  {
   "cell_type": "markdown",
   "metadata": {},
   "source": [
    "# Stock Price Predictor\n",
    "This Notebook uses historical data from the S&P 500 index to predict the following day's price for a given stock."
   ]
  },
  {
   "cell_type": "markdown",
   "metadata": {},
   "source": [
    "## Load Data"
   ]
  },
  {
   "cell_type": "code",
   "execution_count": 2,
   "metadata": {},
   "outputs": [
    {
     "data": {
      "text/html": [
       "<div>\n",
       "<style scoped>\n",
       "    .dataframe tbody tr th:only-of-type {\n",
       "        vertical-align: middle;\n",
       "    }\n",
       "\n",
       "    .dataframe tbody tr th {\n",
       "        vertical-align: top;\n",
       "    }\n",
       "\n",
       "    .dataframe thead th {\n",
       "        text-align: right;\n",
       "    }\n",
       "</style>\n",
       "<table border=\"1\" class=\"dataframe\">\n",
       "  <thead>\n",
       "    <tr style=\"text-align: right;\">\n",
       "      <th></th>\n",
       "      <th>Open</th>\n",
       "      <th>High</th>\n",
       "      <th>Low</th>\n",
       "      <th>Close</th>\n",
       "      <th>Volume</th>\n",
       "      <th>Dividends</th>\n",
       "      <th>Stock Splits</th>\n",
       "    </tr>\n",
       "    <tr>\n",
       "      <th>Date</th>\n",
       "      <th></th>\n",
       "      <th></th>\n",
       "      <th></th>\n",
       "      <th></th>\n",
       "      <th></th>\n",
       "      <th></th>\n",
       "      <th></th>\n",
       "    </tr>\n",
       "  </thead>\n",
       "  <tbody>\n",
       "    <tr>\n",
       "      <th>1927-12-30 00:00:00-05:00</th>\n",
       "      <td>17.660000</td>\n",
       "      <td>17.660000</td>\n",
       "      <td>17.660000</td>\n",
       "      <td>17.660000</td>\n",
       "      <td>0</td>\n",
       "      <td>0.0</td>\n",
       "      <td>0.0</td>\n",
       "    </tr>\n",
       "    <tr>\n",
       "      <th>1928-01-03 00:00:00-05:00</th>\n",
       "      <td>17.760000</td>\n",
       "      <td>17.760000</td>\n",
       "      <td>17.760000</td>\n",
       "      <td>17.760000</td>\n",
       "      <td>0</td>\n",
       "      <td>0.0</td>\n",
       "      <td>0.0</td>\n",
       "    </tr>\n",
       "    <tr>\n",
       "      <th>1928-01-04 00:00:00-05:00</th>\n",
       "      <td>17.719999</td>\n",
       "      <td>17.719999</td>\n",
       "      <td>17.719999</td>\n",
       "      <td>17.719999</td>\n",
       "      <td>0</td>\n",
       "      <td>0.0</td>\n",
       "      <td>0.0</td>\n",
       "    </tr>\n",
       "    <tr>\n",
       "      <th>1928-01-05 00:00:00-05:00</th>\n",
       "      <td>17.549999</td>\n",
       "      <td>17.549999</td>\n",
       "      <td>17.549999</td>\n",
       "      <td>17.549999</td>\n",
       "      <td>0</td>\n",
       "      <td>0.0</td>\n",
       "      <td>0.0</td>\n",
       "    </tr>\n",
       "    <tr>\n",
       "      <th>1928-01-06 00:00:00-05:00</th>\n",
       "      <td>17.660000</td>\n",
       "      <td>17.660000</td>\n",
       "      <td>17.660000</td>\n",
       "      <td>17.660000</td>\n",
       "      <td>0</td>\n",
       "      <td>0.0</td>\n",
       "      <td>0.0</td>\n",
       "    </tr>\n",
       "    <tr>\n",
       "      <th>...</th>\n",
       "      <td>...</td>\n",
       "      <td>...</td>\n",
       "      <td>...</td>\n",
       "      <td>...</td>\n",
       "      <td>...</td>\n",
       "      <td>...</td>\n",
       "      <td>...</td>\n",
       "    </tr>\n",
       "    <tr>\n",
       "      <th>2023-04-27 00:00:00-04:00</th>\n",
       "      <td>4075.290039</td>\n",
       "      <td>4138.240234</td>\n",
       "      <td>4075.290039</td>\n",
       "      <td>4135.350098</td>\n",
       "      <td>3750550000</td>\n",
       "      <td>0.0</td>\n",
       "      <td>0.0</td>\n",
       "    </tr>\n",
       "    <tr>\n",
       "      <th>2023-04-28 00:00:00-04:00</th>\n",
       "      <td>4129.629883</td>\n",
       "      <td>4170.060059</td>\n",
       "      <td>4127.180176</td>\n",
       "      <td>4169.479980</td>\n",
       "      <td>4087800000</td>\n",
       "      <td>0.0</td>\n",
       "      <td>0.0</td>\n",
       "    </tr>\n",
       "    <tr>\n",
       "      <th>2023-05-01 00:00:00-04:00</th>\n",
       "      <td>4166.790039</td>\n",
       "      <td>4186.919922</td>\n",
       "      <td>4164.120117</td>\n",
       "      <td>4167.870117</td>\n",
       "      <td>3321370000</td>\n",
       "      <td>0.0</td>\n",
       "      <td>0.0</td>\n",
       "    </tr>\n",
       "    <tr>\n",
       "      <th>2023-05-02 00:00:00-04:00</th>\n",
       "      <td>4164.100098</td>\n",
       "      <td>4164.100098</td>\n",
       "      <td>4089.719971</td>\n",
       "      <td>4119.580078</td>\n",
       "      <td>4486130000</td>\n",
       "      <td>0.0</td>\n",
       "      <td>0.0</td>\n",
       "    </tr>\n",
       "    <tr>\n",
       "      <th>2023-05-03 00:00:00-04:00</th>\n",
       "      <td>4122.250000</td>\n",
       "      <td>4137.069824</td>\n",
       "      <td>4122.250000</td>\n",
       "      <td>4129.500000</td>\n",
       "      <td>441038069</td>\n",
       "      <td>0.0</td>\n",
       "      <td>0.0</td>\n",
       "    </tr>\n",
       "  </tbody>\n",
       "</table>\n",
       "<p>23949 rows × 7 columns</p>\n",
       "</div>"
      ],
      "text/plain": [
       "                                  Open         High          Low        Close   \n",
       "Date                                                                            \n",
       "1927-12-30 00:00:00-05:00    17.660000    17.660000    17.660000    17.660000  \\\n",
       "1928-01-03 00:00:00-05:00    17.760000    17.760000    17.760000    17.760000   \n",
       "1928-01-04 00:00:00-05:00    17.719999    17.719999    17.719999    17.719999   \n",
       "1928-01-05 00:00:00-05:00    17.549999    17.549999    17.549999    17.549999   \n",
       "1928-01-06 00:00:00-05:00    17.660000    17.660000    17.660000    17.660000   \n",
       "...                                ...          ...          ...          ...   \n",
       "2023-04-27 00:00:00-04:00  4075.290039  4138.240234  4075.290039  4135.350098   \n",
       "2023-04-28 00:00:00-04:00  4129.629883  4170.060059  4127.180176  4169.479980   \n",
       "2023-05-01 00:00:00-04:00  4166.790039  4186.919922  4164.120117  4167.870117   \n",
       "2023-05-02 00:00:00-04:00  4164.100098  4164.100098  4089.719971  4119.580078   \n",
       "2023-05-03 00:00:00-04:00  4122.250000  4137.069824  4122.250000  4129.500000   \n",
       "\n",
       "                               Volume  Dividends  Stock Splits  \n",
       "Date                                                            \n",
       "1927-12-30 00:00:00-05:00           0        0.0           0.0  \n",
       "1928-01-03 00:00:00-05:00           0        0.0           0.0  \n",
       "1928-01-04 00:00:00-05:00           0        0.0           0.0  \n",
       "1928-01-05 00:00:00-05:00           0        0.0           0.0  \n",
       "1928-01-06 00:00:00-05:00           0        0.0           0.0  \n",
       "...                               ...        ...           ...  \n",
       "2023-04-27 00:00:00-04:00  3750550000        0.0           0.0  \n",
       "2023-04-28 00:00:00-04:00  4087800000        0.0           0.0  \n",
       "2023-05-01 00:00:00-04:00  3321370000        0.0           0.0  \n",
       "2023-05-02 00:00:00-04:00  4486130000        0.0           0.0  \n",
       "2023-05-03 00:00:00-04:00   441038069        0.0           0.0  \n",
       "\n",
       "[23949 rows x 7 columns]"
      ]
     },
     "execution_count": 2,
     "metadata": {},
     "output_type": "execute_result"
    }
   ],
   "source": [
    "import yfinance as yf  # yahoo finance\n",
    "sp500 = yf.Ticker(\"^GSPC\")  # initialize index\n",
    "sp500 = sp500.history(period=\"max\")  # query: get history since start of index\n",
    "\n",
    "sp500"
   ]
  },
  {
   "cell_type": "code",
   "execution_count": 3,
   "metadata": {},
   "outputs": [
    {
     "data": {
      "text/plain": [
       "<Axes: xlabel='Date'>"
      ]
     },
     "execution_count": 3,
     "metadata": {},
     "output_type": "execute_result"
    },
    {
     "data": {
      "image/png": "[encoded data removed]",
      "text/plain": [
       "<Figure size 640x480 with 1 Axes>"
      ]
     },
     "metadata": {},
     "output_type": "display_data"
    }
   ],
   "source": [
    "sp500.plot.line(y=\"Close\", use_index=True)"
   ]
  },
  {
   "cell_type": "markdown",
   "metadata": {},
   "source": [
    "## Data Engineering\n",
    "\n",
    "A time series-based approach to making predictions."
   ]
  },
  {
   "cell_type": "code",
   "execution_count": 4,
   "metadata": {},
   "outputs": [],
   "source": [
    "# Remove unwanted columns\n",
    "del sp500[\"Dividends\"]\n",
    "del sp500[\"Stock Splits\"]\n",
    "\n",
    "# Remove old data. Data from too long ago is detrimental to our predictions.\n",
    "sp500 = sp500.loc[\"1990-01-01\":].copy()  # use copy() to avoid complicated pandas errors"
   ]
  },
  {
   "cell_type": "code",
   "execution_count": 5,
   "metadata": {},
   "outputs": [],
   "source": [
    "# A column linking each day's price to the next day's\n",
    "sp500[\"Tomorrow\"] = sp500[\"Close\"].shift(-1)\n",
    "\n",
    "# A column containing 1 if the stock went up, else 0\n",
    "sp500[\"Target\"] = (sp500[\"Tomorrow\"] > sp500[\"Close\"]).astype(int)"
   ]
  },
  {
   "cell_type": "markdown",
   "metadata": {},
   "source": [
    "### Splitting the data\n",
    "Since we are dealing with time series data, we cannot rely on cross validation, or any means of evaluation that involves randomly splitting the data. This is because each entry is dependent on previous entries, and so random subsets would lose this definitive feature. This is an instance of Data Leakage."
   ]
  },
  {
   "cell_type": "code",
   "execution_count": 6,
   "metadata": {},
   "outputs": [],
   "source": [
    "# Training set\n",
    "train = sp500.iloc[:-100]\n",
    "valid = sp500.iloc[-100:]\n",
    "\n",
    "features = [\"Close\", \"High\", \"Low\", \"Volume\", \"Open\"]"
   ]
  },
  {
   "cell_type": "markdown",
   "metadata": {},
   "source": [
    "## Training the Initial Model\n",
    "\n",
    "Here we use sci-kit Learn's RandomForestClassifier model."
   ]
  },
  {
   "cell_type": "code",
   "execution_count": 7,
   "metadata": {},
   "outputs": [
    {
     "data": {
      "text/html": [
       "<style>#sk-container-id-1 {color: black;background-color: white;}#sk-container-id-1 pre{padding: 0;}#sk-container-id-1 div.sk-toggleable {background-color: white;}#sk-container-id-1 label.sk-toggleable__label {cursor: pointer;display: block;width: 100%;margin-bottom: 0;padding: 0.3em;box-sizing: border-box;text-align: center;}#sk-container-id-1 label.sk-toggleable__label-arrow:before {content: \"▸\";float: left;margin-right: 0.25em;color: #696969;}#sk-container-id-1 label.sk-toggleable__label-arrow:hover:before {color: black;}#sk-container-id-1 div.sk-estimator:hover label.sk-toggleable__label-arrow:before {color: black;}#sk-container-id-1 div.sk-toggleable__content {max-height: 0;max-width: 0;overflow: hidden;text-align: left;background-color: #f0f8ff;}#sk-container-id-1 div.sk-toggleable__content pre {margin: 0.2em;color: black;border-radius: 0.25em;background-color: #f0f8ff;}#sk-container-id-1 input.sk-toggleable__control:checked~div.sk-toggleable__content {max-height: 200px;max-width: 100%;overflow: auto;}#sk-container-id-1 input.sk-toggleable__control:checked~label.sk-toggleable__label-arrow:before {content: \"▾\";}#sk-container-id-1 div.sk-estimator input.sk-toggleable__control:checked~label.sk-toggleable__label {background-color: #d4ebff;}#sk-container-id-1 div.sk-label input.sk-toggleable__control:checked~label.sk-toggleable__label {background-color: #d4ebff;}#sk-container-id-1 input.sk-hidden--visually {border: 0;clip: rect(1px 1px 1px 1px);clip: rect(1px, 1px, 1px, 1px);height: 1px;margin: -1px;overflow: hidden;padding: 0;position: absolute;width: 1px;}#sk-container-id-1 div.sk-estimator {font-family: monospace;background-color: #f0f8ff;border: 1px dotted black;border-radius: 0.25em;box-sizing: border-box;margin-bottom: 0.5em;}#sk-container-id-1 div.sk-estimator:hover {background-color: #d4ebff;}#sk-container-id-1 div.sk-parallel-item::after {content: \"\";width: 100%;border-bottom: 1px solid gray;flex-grow: 1;}#sk-container-id-1 div.sk-label:hover label.sk-toggleable__label {background-color: #d4ebff;}#sk-container-id-1 div.sk-serial::before {content: \"\";position: absolute;border-left: 1px solid gray;box-sizing: border-box;top: 0;bottom: 0;left: 50%;z-index: 0;}#sk-container-id-1 div.sk-serial {display: flex;flex-direction: column;align-items: center;background-color: white;padding-right: 0.2em;padding-left: 0.2em;position: relative;}#sk-container-id-1 div.sk-item {position: relative;z-index: 1;}#sk-container-id-1 div.sk-parallel {display: flex;align-items: stretch;justify-content: center;background-color: white;position: relative;}#sk-container-id-1 div.sk-item::before, #sk-container-id-1 div.sk-parallel-item::before {content: \"\";position: absolute;border-left: 1px solid gray;box-sizing: border-box;top: 0;bottom: 0;left: 50%;z-index: -1;}#sk-container-id-1 div.sk-parallel-item {display: flex;flex-direction: column;z-index: 1;position: relative;background-color: white;}#sk-container-id-1 div.sk-parallel-item:first-child::after {align-self: flex-end;width: 50%;}#sk-container-id-1 div.sk-parallel-item:last-child::after {align-self: flex-start;width: 50%;}#sk-container-id-1 div.sk-parallel-item:only-child::after {width: 0;}#sk-container-id-1 div.sk-dashed-wrapped {border: 1px dashed gray;margin: 0 0.4em 0.5em 0.4em;box-sizing: border-box;padding-bottom: 0.4em;background-color: white;}#sk-container-id-1 div.sk-label label {font-family: monospace;font-weight: bold;display: inline-block;line-height: 1.2em;}#sk-container-id-1 div.sk-label-container {text-align: center;}#sk-container-id-1 div.sk-container {/* jupyter's `normalize.less` sets `[hidden] { display: none; }` but bootstrap.min.css set `[hidden] { display: none !important; }` so we also need the `!important` here to be able to override the default hidden behavior on the sphinx rendered scikit-learn.org. See: https://github.com/scikit-learn/scikit-learn/issues/21755 */display: inline-block !important;position: relative;}#sk-container-id-1 div.sk-text-repr-fallback {display: none;}</style><div id=\"sk-container-id-1\" class=\"sk-top-container\"><div class=\"sk-text-repr-fallback\"><pre>RandomForestClassifier(min_samples_split=100, random_state=7)</pre><b>In a Jupyter environment, please rerun this cell to show the HTML representation or trust the notebook. <br />On GitHub, the HTML representation is unable to render, please try loading this page with nbviewer.org.</b></div><div class=\"sk-container\" hidden><div class=\"sk-item\"><div class=\"sk-estimator sk-toggleable\"><input class=\"sk-toggleable__control sk-hidden--visually\" id=\"sk-estimator-id-1\" type=\"checkbox\" checked><label for=\"sk-estimator-id-1\" class=\"sk-toggleable__label sk-toggleable__label-arrow\">RandomForestClassifier</label><div class=\"sk-toggleable__content\"><pre>RandomForestClassifier(min_samples_split=100, random_state=7)</pre></div></div></div></div></div>"
      ],
      "text/plain": [
       "RandomForestClassifier(min_samples_split=100, random_state=7)"
      ]
     },
     "execution_count": 7,
     "metadata": {},
     "output_type": "execute_result"
    }
   ],
   "source": [
    "from sklearn.ensemble import RandomForestClassifier\n",
    "\n",
    "model = RandomForestClassifier(\n",
    "    n_estimators=100,  # number of decision trees\n",
    "    min_samples_split=100,  # avoid overfitting\n",
    "    random_state=7  # seed\n",
    ")\n",
    "\n",
    "model.fit(train[features], train[\"Target\"])"
   ]
  },
  {
   "cell_type": "code",
   "execution_count": 8,
   "metadata": {},
   "outputs": [
    {
     "data": {
      "text/plain": [
       "0.5454545454545454"
      ]
     },
     "execution_count": 8,
     "metadata": {},
     "output_type": "execute_result"
    }
   ],
   "source": [
    "# Validation\n",
    "from sklearn.metrics import precision_score\n",
    "import pandas as pd\n",
    "\n",
    "predictions = model.predict(valid[features])\n",
    "predictions = pd.Series(predictions, index=valid.index)\n",
    "\n",
    "precision_score(valid[\"Target\"], predictions)"
   ]
  },
  {
   "cell_type": "code",
   "execution_count": 9,
   "metadata": {},
   "outputs": [
    {
     "data": {
      "text/plain": [
       "<Axes: xlabel='Date'>"
      ]
     },
     "execution_count": 9,
     "metadata": {},
     "output_type": "execute_result"
    },
    {
     "data": {
      "image/png": "[encoded data removed]",
      "text/plain": [
       "<Figure size 640x480 with 1 Axes>"
      ]
     },
     "metadata": {},
     "output_type": "display_data"
    }
   ],
   "source": [
    "# Visualize results\n",
    "combined = pd.concat([valid[\"Target\"], predictions], axis=1)\n",
    "combined.plot()"
   ]
  },
  {
   "cell_type": "markdown",
   "metadata": {},
   "source": [
    "# Evaluating the Model\n",
    "The predict function encapsulates the entire training process from above, allowing us to focus only on parameters.\n",
    "\n",
    "backtest, on the other hand, is a function that predicts the target for every row of the data by using all entries prior to that date. Note that this method of evaluation for our model is not an instance of data leakage: Assuming our model picked up non-linear trends when training, the predictions it makes are not effectively based on specific entries in the dataset, such as those from a time ahead of a given date."
   ]
  },
  {
   "cell_type": "code",
   "execution_count": 15,
   "metadata": {},
   "outputs": [],
   "source": [
    "def predict(train: pd.DataFrame, \n",
    "            valid: pd.Series, \n",
    "            features: list[str], \n",
    "            model: RandomForestClassifier  # or any model with equivalent fit/predict methods\n",
    "            ) -> pd.DataFrame:\n",
    "    \"\"\"\n",
    "    Return a DataFrame containing 2 rows:\n",
    "    - The target data as \"Target\"\n",
    "    - The corresponding predictions as \"Predictions\"\n",
    "    \"\"\"\n",
    "    model.fit(train[features], train[\"Target\"])\n",
    "    preds = model.predict(valid[features])\n",
    "    preds = pd.Series(preds, index=valid.index, name=\"Predictions\")\n",
    "    return pd.concat([valid[\"Target\"], preds], axis=1)\n",
    "\n",
    "\n",
    "def backtest(data: pd.DataFrame,\n",
    "             model: RandomForestClassifier,\n",
    "             features: list[str],\n",
    "             start=2500,\n",
    "             step=250\n",
    "             ) -> pd.DataFrame:\n",
    "    \"\"\"Return a DataFrame showing the model's predictions for every entry in the data.\"\"\"\n",
    "    allPredictions = []\n",
    "    for i in range(start, data.shape[0], step):\n",
    "        train = data.iloc[0:i].copy()\n",
    "        valid = data.iloc[i:(i+step)].copy()\n",
    "        results = predict(train, valid, features, model)\n",
    "        allPredictions.append(results)\n",
    "    return pd.concat(allPredictions)\n"
   ]
  },
  {
   "cell_type": "code",
   "execution_count": 18,
   "metadata": {},
   "outputs": [
    {
     "data": {
      "text/plain": [
       "Predictions\n",
       "0    3452\n",
       "1    2447\n",
       "Name: count, dtype: int64"
      ]
     },
     "execution_count": 18,
     "metadata": {},
     "output_type": "execute_result"
    }
   ],
   "source": [
    "# This one takes a while to run, expectedly\n",
    "btPreds = backtest(sp500, model, features)\n",
    "btPreds[\"Predictions\"].value_counts()  # shows how many times the model predicted each outcome"
   ]
  },
  {
   "cell_type": "code",
   "execution_count": 19,
   "metadata": {},
   "outputs": [
    {
     "data": {
      "text/plain": [
       "0.526767470371884"
      ]
     },
     "execution_count": 19,
     "metadata": {},
     "output_type": "execute_result"
    }
   ],
   "source": [
    "# Check our backtesting precision score\n",
    "precision_score(btPreds[\"Target\"], btPreds[\"Predictions\"])"
   ]
  },
  {
   "cell_type": "markdown",
   "metadata": {},
   "source": [
    "# More Feature Engineering\n",
    "We may use our insights to enhance our model. First, add some columns that link each date to the rolling average from the past {bench} amount of days. With this, we introduce a ratioCol, which represents the change in the close value over this interval. Similarly, we create a trendCol that represents the number of days the stock price went up within the past {bench} days."
   ]
  },
  {
   "cell_type": "code",
   "execution_count": 21,
   "metadata": {},
   "outputs": [],
   "source": [
    "# Use past benchmark dates to predict if a market crash is due\n",
    "benchmarks = [2, 5, 50, 250, 1000]\n",
    "newFeatures = []\n",
    "\n",
    "for bench in benchmarks:\n",
    "    rollingAvgs = sp500.rolling(bench).mean()\n",
    "    ratioCol = f\"Close_Ratio_{bench}\"\n",
    "    sp500[ratioCol] = sp500[\"Close\"] / rollingAvgs[\"Close\"]\n",
    "\n",
    "    trendCol = f\"Trend_{bench}\"\n",
    "    sp500[trendCol] = sp500.shift(1).rolling(bench).sum()[\"Target\"]\n",
    "\n",
    "    newFeatures += [ratioCol, trendCol]"
   ]
  },
  {
   "cell_type": "markdown",
   "metadata": {},
   "source": [
    "When we create these new rows above, many of the rows at the start of the dataset will not have access to {bench} amount of prior entries. When this happens, pandas fills in the value with NaN. For our matter, we will drop these entries. However, if we wanted to include data from exactly 1990 as we initially chose, we would have to start with data from {bench} days before, so that we would cutoff exactly everything before 1990-01-01."
   ]
  },
  {
   "cell_type": "code",
   "execution_count": 24,
   "metadata": {},
   "outputs": [
    {
     "data": {
      "text/html": [
       "<div>\n",
       "<style scoped>\n",
       "    .dataframe tbody tr th:only-of-type {\n",
       "        vertical-align: middle;\n",
       "    }\n",
       "\n",
       "    .dataframe tbody tr th {\n",
       "        vertical-align: top;\n",
       "    }\n",
       "\n",
       "    .dataframe thead th {\n",
       "        text-align: right;\n",
       "    }\n",
       "</style>\n",
       "<table border=\"1\" class=\"dataframe\">\n",
       "  <thead>\n",
       "    <tr style=\"text-align: right;\">\n",
       "      <th></th>\n",
       "      <th>Open</th>\n",
       "      <th>High</th>\n",
       "      <th>Low</th>\n",
       "      <th>Close</th>\n",
       "      <th>Volume</th>\n",
       "      <th>Tomorrow</th>\n",
       "      <th>Target</th>\n",
       "      <th>Close_Ratio_2</th>\n",
       "      <th>Trend_2</th>\n",
       "      <th>Close_Ratio_5</th>\n",
       "      <th>Trend_5</th>\n",
       "      <th>Close_Ratio_50</th>\n",
       "      <th>Trend_50</th>\n",
       "      <th>Close_Ratio_250</th>\n",
       "      <th>Trend_250</th>\n",
       "      <th>Close_Ratio_1000</th>\n",
       "      <th>Trend_1000</th>\n",
       "    </tr>\n",
       "    <tr>\n",
       "      <th>Date</th>\n",
       "      <th></th>\n",
       "      <th></th>\n",
       "      <th></th>\n",
       "      <th></th>\n",
       "      <th></th>\n",
       "      <th></th>\n",
       "      <th></th>\n",
       "      <th></th>\n",
       "      <th></th>\n",
       "      <th></th>\n",
       "      <th></th>\n",
       "      <th></th>\n",
       "      <th></th>\n",
       "      <th></th>\n",
       "      <th></th>\n",
       "      <th></th>\n",
       "      <th></th>\n",
       "    </tr>\n",
       "  </thead>\n",
       "  <tbody>\n",
       "    <tr>\n",
       "      <th>1993-12-14 00:00:00-05:00</th>\n",
       "      <td>465.730011</td>\n",
       "      <td>466.119995</td>\n",
       "      <td>462.459991</td>\n",
       "      <td>463.059998</td>\n",
       "      <td>275050000</td>\n",
       "      <td>461.839996</td>\n",
       "      <td>0</td>\n",
       "      <td>0.997157</td>\n",
       "      <td>1.0</td>\n",
       "      <td>0.996617</td>\n",
       "      <td>1.0</td>\n",
       "      <td>0.998567</td>\n",
       "      <td>27.0</td>\n",
       "      <td>1.028047</td>\n",
       "      <td>127.0</td>\n",
       "      <td>1.176082</td>\n",
       "      <td>512.0</td>\n",
       "    </tr>\n",
       "    <tr>\n",
       "      <th>1993-12-15 00:00:00-05:00</th>\n",
       "      <td>463.059998</td>\n",
       "      <td>463.690002</td>\n",
       "      <td>461.839996</td>\n",
       "      <td>461.839996</td>\n",
       "      <td>331770000</td>\n",
       "      <td>463.339996</td>\n",
       "      <td>1</td>\n",
       "      <td>0.998681</td>\n",
       "      <td>0.0</td>\n",
       "      <td>0.995899</td>\n",
       "      <td>1.0</td>\n",
       "      <td>0.995909</td>\n",
       "      <td>27.0</td>\n",
       "      <td>1.025151</td>\n",
       "      <td>126.0</td>\n",
       "      <td>1.172676</td>\n",
       "      <td>512.0</td>\n",
       "    </tr>\n",
       "    <tr>\n",
       "      <th>1993-12-16 00:00:00-05:00</th>\n",
       "      <td>461.859985</td>\n",
       "      <td>463.980011</td>\n",
       "      <td>461.859985</td>\n",
       "      <td>463.339996</td>\n",
       "      <td>284620000</td>\n",
       "      <td>466.380005</td>\n",
       "      <td>1</td>\n",
       "      <td>1.001621</td>\n",
       "      <td>1.0</td>\n",
       "      <td>0.999495</td>\n",
       "      <td>2.0</td>\n",
       "      <td>0.999031</td>\n",
       "      <td>28.0</td>\n",
       "      <td>1.028274</td>\n",
       "      <td>127.0</td>\n",
       "      <td>1.176163</td>\n",
       "      <td>513.0</td>\n",
       "    </tr>\n",
       "    <tr>\n",
       "      <th>1993-12-17 00:00:00-05:00</th>\n",
       "      <td>463.339996</td>\n",
       "      <td>466.380005</td>\n",
       "      <td>463.339996</td>\n",
       "      <td>466.380005</td>\n",
       "      <td>363750000</td>\n",
       "      <td>465.850006</td>\n",
       "      <td>0</td>\n",
       "      <td>1.003270</td>\n",
       "      <td>2.0</td>\n",
       "      <td>1.004991</td>\n",
       "      <td>3.0</td>\n",
       "      <td>1.005274</td>\n",
       "      <td>29.0</td>\n",
       "      <td>1.034781</td>\n",
       "      <td>128.0</td>\n",
       "      <td>1.183537</td>\n",
       "      <td>514.0</td>\n",
       "    </tr>\n",
       "    <tr>\n",
       "      <th>1993-12-20 00:00:00-05:00</th>\n",
       "      <td>466.380005</td>\n",
       "      <td>466.899994</td>\n",
       "      <td>465.529999</td>\n",
       "      <td>465.850006</td>\n",
       "      <td>255900000</td>\n",
       "      <td>465.299988</td>\n",
       "      <td>0</td>\n",
       "      <td>0.999431</td>\n",
       "      <td>1.0</td>\n",
       "      <td>1.003784</td>\n",
       "      <td>2.0</td>\n",
       "      <td>1.003892</td>\n",
       "      <td>28.0</td>\n",
       "      <td>1.033359</td>\n",
       "      <td>128.0</td>\n",
       "      <td>1.181856</td>\n",
       "      <td>513.0</td>\n",
       "    </tr>\n",
       "    <tr>\n",
       "      <th>...</th>\n",
       "      <td>...</td>\n",
       "      <td>...</td>\n",
       "      <td>...</td>\n",
       "      <td>...</td>\n",
       "      <td>...</td>\n",
       "      <td>...</td>\n",
       "      <td>...</td>\n",
       "      <td>...</td>\n",
       "      <td>...</td>\n",
       "      <td>...</td>\n",
       "      <td>...</td>\n",
       "      <td>...</td>\n",
       "      <td>...</td>\n",
       "      <td>...</td>\n",
       "      <td>...</td>\n",
       "      <td>...</td>\n",
       "      <td>...</td>\n",
       "    </tr>\n",
       "    <tr>\n",
       "      <th>2023-04-26 00:00:00-04:00</th>\n",
       "      <td>4087.780029</td>\n",
       "      <td>4089.669922</td>\n",
       "      <td>4049.350098</td>\n",
       "      <td>4055.989990</td>\n",
       "      <td>3837030000</td>\n",
       "      <td>4135.350098</td>\n",
       "      <td>1</td>\n",
       "      <td>0.998076</td>\n",
       "      <td>0.0</td>\n",
       "      <td>0.987918</td>\n",
       "      <td>2.0</td>\n",
       "      <td>1.005669</td>\n",
       "      <td>25.0</td>\n",
       "      <td>1.023652</td>\n",
       "      <td>115.0</td>\n",
       "      <td>1.087296</td>\n",
       "      <td>533.0</td>\n",
       "    </tr>\n",
       "    <tr>\n",
       "      <th>2023-04-27 00:00:00-04:00</th>\n",
       "      <td>4075.290039</td>\n",
       "      <td>4138.240234</td>\n",
       "      <td>4075.290039</td>\n",
       "      <td>4135.350098</td>\n",
       "      <td>3750550000</td>\n",
       "      <td>4169.479980</td>\n",
       "      <td>1</td>\n",
       "      <td>1.009688</td>\n",
       "      <td>1.0</td>\n",
       "      <td>1.006975</td>\n",
       "      <td>3.0</td>\n",
       "      <td>1.025350</td>\n",
       "      <td>26.0</td>\n",
       "      <td>1.043841</td>\n",
       "      <td>115.0</td>\n",
       "      <td>1.108197</td>\n",
       "      <td>534.0</td>\n",
       "    </tr>\n",
       "    <tr>\n",
       "      <th>2023-04-28 00:00:00-04:00</th>\n",
       "      <td>4129.629883</td>\n",
       "      <td>4170.060059</td>\n",
       "      <td>4127.180176</td>\n",
       "      <td>4169.479980</td>\n",
       "      <td>4087800000</td>\n",
       "      <td>4167.870117</td>\n",
       "      <td>0</td>\n",
       "      <td>1.004110</td>\n",
       "      <td>2.0</td>\n",
       "      <td>1.013511</td>\n",
       "      <td>3.0</td>\n",
       "      <td>1.033700</td>\n",
       "      <td>26.0</td>\n",
       "      <td>1.052416</td>\n",
       "      <td>116.0</td>\n",
       "      <td>1.116954</td>\n",
       "      <td>535.0</td>\n",
       "    </tr>\n",
       "    <tr>\n",
       "      <th>2023-05-01 00:00:00-04:00</th>\n",
       "      <td>4166.790039</td>\n",
       "      <td>4186.919922</td>\n",
       "      <td>4164.120117</td>\n",
       "      <td>4167.870117</td>\n",
       "      <td>3321370000</td>\n",
       "      <td>4119.580078</td>\n",
       "      <td>0</td>\n",
       "      <td>0.999807</td>\n",
       "      <td>1.0</td>\n",
       "      <td>1.011603</td>\n",
       "      <td>2.0</td>\n",
       "      <td>1.032905</td>\n",
       "      <td>26.0</td>\n",
       "      <td>1.051997</td>\n",
       "      <td>115.0</td>\n",
       "      <td>1.116138</td>\n",
       "      <td>534.0</td>\n",
       "    </tr>\n",
       "    <tr>\n",
       "      <th>2023-05-02 00:00:00-04:00</th>\n",
       "      <td>4164.100098</td>\n",
       "      <td>4164.100098</td>\n",
       "      <td>4089.719971</td>\n",
       "      <td>4119.580078</td>\n",
       "      <td>4486130000</td>\n",
       "      <td>4129.500000</td>\n",
       "      <td>1</td>\n",
       "      <td>0.994173</td>\n",
       "      <td>0.0</td>\n",
       "      <td>0.997561</td>\n",
       "      <td>2.0</td>\n",
       "      <td>1.020732</td>\n",
       "      <td>26.0</td>\n",
       "      <td>1.039867</td>\n",
       "      <td>114.0</td>\n",
       "      <td>1.102820</td>\n",
       "      <td>534.0</td>\n",
       "    </tr>\n",
       "  </tbody>\n",
       "</table>\n",
       "<p>7398 rows × 17 columns</p>\n",
       "</div>"
      ],
      "text/plain": [
       "                                  Open         High          Low        Close   \n",
       "Date                                                                            \n",
       "1993-12-14 00:00:00-05:00   465.730011   466.119995   462.459991   463.059998  \\\n",
       "1993-12-15 00:00:00-05:00   463.059998   463.690002   461.839996   461.839996   \n",
       "1993-12-16 00:00:00-05:00   461.859985   463.980011   461.859985   463.339996   \n",
       "1993-12-17 00:00:00-05:00   463.339996   466.380005   463.339996   466.380005   \n",
       "1993-12-20 00:00:00-05:00   466.380005   466.899994   465.529999   465.850006   \n",
       "...                                ...          ...          ...          ...   \n",
       "2023-04-26 00:00:00-04:00  4087.780029  4089.669922  4049.350098  4055.989990   \n",
       "2023-04-27 00:00:00-04:00  4075.290039  4138.240234  4075.290039  4135.350098   \n",
       "2023-04-28 00:00:00-04:00  4129.629883  4170.060059  4127.180176  4169.479980   \n",
       "2023-05-01 00:00:00-04:00  4166.790039  4186.919922  4164.120117  4167.870117   \n",
       "2023-05-02 00:00:00-04:00  4164.100098  4164.100098  4089.719971  4119.580078   \n",
       "\n",
       "                               Volume     Tomorrow  Target  Close_Ratio_2   \n",
       "Date                                                                        \n",
       "1993-12-14 00:00:00-05:00   275050000   461.839996       0       0.997157  \\\n",
       "1993-12-15 00:00:00-05:00   331770000   463.339996       1       0.998681   \n",
       "1993-12-16 00:00:00-05:00   284620000   466.380005       1       1.001621   \n",
       "1993-12-17 00:00:00-05:00   363750000   465.850006       0       1.003270   \n",
       "1993-12-20 00:00:00-05:00   255900000   465.299988       0       0.999431   \n",
       "...                               ...          ...     ...            ...   \n",
       "2023-04-26 00:00:00-04:00  3837030000  4135.350098       1       0.998076   \n",
       "2023-04-27 00:00:00-04:00  3750550000  4169.479980       1       1.009688   \n",
       "2023-04-28 00:00:00-04:00  4087800000  4167.870117       0       1.004110   \n",
       "2023-05-01 00:00:00-04:00  3321370000  4119.580078       0       0.999807   \n",
       "2023-05-02 00:00:00-04:00  4486130000  4129.500000       1       0.994173   \n",
       "\n",
       "                           Trend_2  Close_Ratio_5  Trend_5  Close_Ratio_50   \n",
       "Date                                                                         \n",
       "1993-12-14 00:00:00-05:00      1.0       0.996617      1.0        0.998567  \\\n",
       "1993-12-15 00:00:00-05:00      0.0       0.995899      1.0        0.995909   \n",
       "1993-12-16 00:00:00-05:00      1.0       0.999495      2.0        0.999031   \n",
       "1993-12-17 00:00:00-05:00      2.0       1.004991      3.0        1.005274   \n",
       "1993-12-20 00:00:00-05:00      1.0       1.003784      2.0        1.003892   \n",
       "...                            ...            ...      ...             ...   \n",
       "2023-04-26 00:00:00-04:00      0.0       0.987918      2.0        1.005669   \n",
       "2023-04-27 00:00:00-04:00      1.0       1.006975      3.0        1.025350   \n",
       "2023-04-28 00:00:00-04:00      2.0       1.013511      3.0        1.033700   \n",
       "2023-05-01 00:00:00-04:00      1.0       1.011603      2.0        1.032905   \n",
       "2023-05-02 00:00:00-04:00      0.0       0.997561      2.0        1.020732   \n",
       "\n",
       "                           Trend_50  Close_Ratio_250  Trend_250   \n",
       "Date                                                              \n",
       "1993-12-14 00:00:00-05:00      27.0         1.028047      127.0  \\\n",
       "1993-12-15 00:00:00-05:00      27.0         1.025151      126.0   \n",
       "1993-12-16 00:00:00-05:00      28.0         1.028274      127.0   \n",
       "1993-12-17 00:00:00-05:00      29.0         1.034781      128.0   \n",
       "1993-12-20 00:00:00-05:00      28.0         1.033359      128.0   \n",
       "...                             ...              ...        ...   \n",
       "2023-04-26 00:00:00-04:00      25.0         1.023652      115.0   \n",
       "2023-04-27 00:00:00-04:00      26.0         1.043841      115.0   \n",
       "2023-04-28 00:00:00-04:00      26.0         1.052416      116.0   \n",
       "2023-05-01 00:00:00-04:00      26.0         1.051997      115.0   \n",
       "2023-05-02 00:00:00-04:00      26.0         1.039867      114.0   \n",
       "\n",
       "                           Close_Ratio_1000  Trend_1000  \n",
       "Date                                                     \n",
       "1993-12-14 00:00:00-05:00          1.176082       512.0  \n",
       "1993-12-15 00:00:00-05:00          1.172676       512.0  \n",
       "1993-12-16 00:00:00-05:00          1.176163       513.0  \n",
       "1993-12-17 00:00:00-05:00          1.183537       514.0  \n",
       "1993-12-20 00:00:00-05:00          1.181856       513.0  \n",
       "...                                     ...         ...  \n",
       "2023-04-26 00:00:00-04:00          1.087296       533.0  \n",
       "2023-04-27 00:00:00-04:00          1.108197       534.0  \n",
       "2023-04-28 00:00:00-04:00          1.116954       535.0  \n",
       "2023-05-01 00:00:00-04:00          1.116138       534.0  \n",
       "2023-05-02 00:00:00-04:00          1.102820       534.0  \n",
       "\n",
       "[7398 rows x 17 columns]"
      ]
     },
     "execution_count": 24,
     "metadata": {},
     "output_type": "execute_result"
    }
   ],
   "source": [
    "sp500 = sp500.dropna()\n",
    "sp500"
   ]
  },
  {
   "cell_type": "markdown",
   "metadata": {},
   "source": [
    "# Optimization"
   ]
  },
  {
   "cell_type": "code",
   "execution_count": null,
   "metadata": {},
   "outputs": [],
   "source": [
    "model = RandomForestClassifier(\n",
    "    n_estimators=100,\n",
    "    min_samples_split=50,\n",
    "    random_state=7\n",
    ")"
   ]
  },
  {
   "cell_type": "code",
   "execution_count": 25,
   "metadata": {},
   "outputs": [],
   "source": [
    "# Updated predict funciton\n",
    "def predict(train: pd.DataFrame, \n",
    "            valid: pd.Series, \n",
    "            features: list[str], \n",
    "            model: RandomForestClassifier, # or any model with equivalent fit/predict methods\n",
    "            confidence: float = 0.6\n",
    "            ) -> pd.DataFrame:\n",
    "    \"\"\"\n",
    "    Return a DataFrame containing 2 rows:\n",
    "    - The target data as \"Target\"\n",
    "    - The corresponding predictions as \"Predictions\"\n",
    "\n",
    "    Precondition: 0 <= confidence <= 1\n",
    "    \"\"\"\n",
    "    model.fit(train[features], train[\"Target\"])\n",
    "\n",
    "    # Predicts the probability stock will go up\n",
    "    preds = model.predict_proba(valid[features])[:,1]\n",
    "    preds[preds >= confidence] = 1\n",
    "    preds[preds < confidence] = 0\n",
    "\n",
    "    preds = pd.Series(preds, index=valid.index, name=\"Predictions\")\n",
    "    return pd.concat([valid[\"Target\"], preds], axis=1)"
   ]
  },
  {
   "cell_type": "code",
   "execution_count": 26,
   "metadata": {},
   "outputs": [
    {
     "data": {
      "text/plain": [
       "Predictions\n",
       "0.0    4205\n",
       "1.0     693\n",
       "Name: count, dtype: int64"
      ]
     },
     "execution_count": 26,
     "metadata": {},
     "output_type": "execute_result"
    }
   ],
   "source": [
    "btPreds = backtest(sp500, model, newFeatures)\n",
    "btPreds[\"Predictions\"].value_counts()"
   ]
  },
  {
   "cell_type": "code",
   "execution_count": 27,
   "metadata": {},
   "outputs": [
    {
     "data": {
      "text/plain": [
       "0.5858585858585859"
      ]
     },
     "execution_count": 27,
     "metadata": {},
     "output_type": "execute_result"
    }
   ],
   "source": [
    "precision_score(btPreds[\"Target\"], btPreds[\"Predictions\"])"
   ]
  }
 ],
 "metadata": {
  "kernelspec": {
   "display_name": "Python 3.10.10 64-bit",
   "language": "python",
   "name": "python3"
  },
  "language_info": {
   "codemirror_mode": {
    "name": "ipython",
    "version": 3
   },
   "file_extension": ".py",
   "mimetype": "text/x-python",
   "name": "python",
   "nbconvert_exporter": "python",
   "pygments_lexer": "ipython3",
   "version": "3.10.10"
  },
  "orig_nbformat": 4,
  "vscode": {
   "interpreter": {
    "hash": "7e1998ff7f8aa20ada591c520b972326324e5ea05489af9e422744c7c09f6dad"
   }
  }
 },
 "nbformat": 4,
 "nbformat_minor": 2
}
